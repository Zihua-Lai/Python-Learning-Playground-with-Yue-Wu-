{
 "cells": [
  {
   "cell_type": "markdown",
   "id": "05c9aebc",
   "metadata": {},
   "source": [
    "# condition judgement "
   ]
  },
  {
   "cell_type": "markdown",
   "id": "fdd44d67",
   "metadata": {},
   "source": [
    "## if it is a leap year "
   ]
  },
  {
   "cell_type": "markdown",
   "id": "aefbf992",
   "metadata": {},
   "source": [
    "编写一个Python 函数，使用条件语句来判断输入的年份是否为闰年"
   ]
  },
  {
   "cell_type": "code",
   "execution_count": 5,
   "id": "9a334390",
   "metadata": {},
   "outputs": [
    {
     "name": "stdout",
     "output_type": "stream",
     "text": [
      "True\n",
      "False\n",
      "True\n"
     ]
    }
   ],
   "source": [
    "year_1 = 2000 \n",
    "year_2 = 1900\n",
    "year_3 = 2004\n",
    "\n",
    "def is_leap_year(year):\n",
    "    if (year % 4 == 0 and year % 100 !=0 ) or year%400 == 0:\n",
    "        return True \n",
    "    else:\n",
    "        return False \n",
    "    \n",
    "print(is_leap_year(year_1))\n",
    "print(is_leap_year(year_2))    \n",
    "print(is_leap_year(year_3)) # or, and , cannot use capital ; after if , remember to add : \n",
    "        "
   ]
  },
  {
   "cell_type": "markdown",
   "id": "5643f1ce",
   "metadata": {},
   "source": [
    "## number classification \n",
    "write a python function, to judge whether the number is positive, negative or 0 based on the input number "
   ]
  },
  {
   "cell_type": "code",
   "execution_count": 7,
   "id": "6d01e5de",
   "metadata": {},
   "outputs": [
    {
     "name": "stdout",
     "output_type": "stream",
     "text": [
      "Negative\n",
      "0\n",
      "Positive\n"
     ]
    }
   ],
   "source": [
    "num_1 = -1 \n",
    "num_2 = 0\n",
    "num_3 = 3 \n",
    "\n",
    "def number_classifier(number):\n",
    "    if number > 0:\n",
    "        return \"Positive\"\n",
    "    elif number == 0:\n",
    "        return \"0\"\n",
    "    else:\n",
    "        return \"Negative\"\n",
    "    \n",
    "print(number_classifier(num_1))\n",
    "print(number_classifier(num_2))\n",
    "print(number_classifier(num_3))"
   ]
  },
  {
   "cell_type": "markdown",
   "id": "c9ac8e2d",
   "metadata": {},
   "source": [
    "##  grade classification \n",
    "Use condtion juedgement, to decide which grade the score is belong to.\n",
    "A: greater or equal to 90 \n",
    "B: greater than 80 or equal to 80  but smaller than 90\n",
    "C: greater tha or equal to 70 but smaller than 80 \n",
    "D: else "
   ]
  },
  {
   "cell_type": "code",
   "execution_count": 19,
   "id": "cf4b995e",
   "metadata": {},
   "outputs": [
    {
     "name": "stdout",
     "output_type": "stream",
     "text": [
      "A\n",
      "B\n",
      "C\n"
     ]
    }
   ],
   "source": [
    "score_1 = 100 \n",
    "score_2 = 85 \n",
    "score_3 = 72 \n",
    "score_4 = 60 \n",
    "\n",
    "def grade_classifier(score):\n",
    "    if score >= 90:\n",
    "        return \"A\"\n",
    "    elif score >= 80:\n",
    "        return \"B\"\n",
    "    elif score >= 70:\n",
    "        return \"C\"\n",
    "    else:\n",
    "        return \"D\"\n",
    "    \n",
    "print(grade_classifier(score_1))\n",
    "print(grade_classifier(score_2))\n",
    "print(grade_classifier(score_3))\n"
   ]
  },
  {
   "cell_type": "markdown",
   "id": "a434c05b",
   "metadata": {},
   "source": [
    "## Decide the age range \n",
    "teenager younger or equal to 12; \n",
    "teenager greater 13 and younger or equal to 19; \n",
    "adult older than 19 "
   ]
  },
  {
   "cell_type": "code",
   "execution_count": 14,
   "id": "86fed02d",
   "metadata": {},
   "outputs": [
    {
     "name": "stdout",
     "output_type": "stream",
     "text": [
      "children\n",
      "teenager\n",
      "adult\n"
     ]
    }
   ],
   "source": [
    "age_1 = 12 \n",
    "age_2 = 15\n",
    "age_3 = 20 \n",
    "\n",
    "def age_classifier(age):\n",
    "    if age >=12 and age <13:\n",
    "        return \"children\"\n",
    "    elif age > 13 and age <= 19:\n",
    "        return \"teenager\"\n",
    "    else:\n",
    "        return\"adult\"\n",
    "\n",
    "print(age_classifier(age_1))\n",
    "print(age_classifier(age_2))\n",
    "print(age_classifier(age_3))"
   ]
  },
  {
   "cell_type": "markdown",
   "id": "1f9fe689",
   "metadata": {},
   "source": [
    "## Temperature definition \n",
    "Divide the temperature into freezing, cold, warm, hot \n",
    "freezing : temperature < 0 \n",
    "cold : temperature belongs to the range of 0 to 10 \n",
    "warm: temperature is higher than 10 but lower than 25 \n",
    "hot : temperature is higher or equal to 25 "
   ]
  },
  {
   "cell_type": "code",
   "execution_count": 15,
   "id": "3176f7aa",
   "metadata": {},
   "outputs": [
    {
     "name": "stdout",
     "output_type": "stream",
     "text": [
      "freezing\n",
      "cold\n",
      "warm\n",
      "hot\n"
     ]
    }
   ],
   "source": [
    "temp_1 = -5 \n",
    "temp_2 = 4 \n",
    "temp_3 = 15 \n",
    "temp_4 = 27 \n",
    "\n",
    "def temp_classifier(temp):\n",
    "    if temp >= 25:\n",
    "        return \"hot\"\n",
    "    elif temp >= 10:\n",
    "        return \"warm\"\n",
    "    elif temp >=0:\n",
    "        return \"cold\"\n",
    "    else:\n",
    "        return \"freezing\"\n",
    "\n",
    "print(temp_classifier(temp_1))\n",
    "print(temp_classifier(temp_2))\n",
    "print(temp_classifier(temp_3))  \n",
    "print(temp_classifier(temp_4))   "
   ]
  },
  {
   "cell_type": "code",
   "execution_count": null,
   "id": "978115cd",
   "metadata": {},
   "outputs": [],
   "source": []
  }
 ],
 "metadata": {
  "kernelspec": {
   "display_name": "Python 3 (ipykernel)",
   "language": "python",
   "name": "python3"
  },
  "language_info": {
   "codemirror_mode": {
    "name": "ipython",
    "version": 3
   },
   "file_extension": ".py",
   "mimetype": "text/x-python",
   "name": "python",
   "nbconvert_exporter": "python",
   "pygments_lexer": "ipython3",
   "version": "3.11.5"
  }
 },
 "nbformat": 4,
 "nbformat_minor": 5
}
